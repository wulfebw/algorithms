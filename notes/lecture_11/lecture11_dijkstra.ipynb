{
 "cells": [
  {
   "cell_type": "markdown",
   "metadata": {},
   "source": [
    "# Lecture 11: Dijkstra's algorithm "
   ]
  },
  {
   "cell_type": "code",
   "execution_count": 1,
   "metadata": {},
   "outputs": [],
   "source": [
    "from graphStuff import *\n",
    "from random import random\n",
    "from random import choice\n",
    "import heapdict as heapdict # you will need to install heapdict to use this\n",
    "import time\n",
    "\n",
    "%matplotlib inline\n",
    "import matplotlib\n",
    "import numpy as np\n",
    "import matplotlib.pyplot as plt"
   ]
  },
  {
   "cell_type": "markdown",
   "metadata": {},
   "source": [
    "### Test graph:\n",
    "\n",
    "Here's the graph that is the running example on the slides"
   ]
  },
  {
   "cell_type": "code",
   "execution_count": 2,
   "metadata": {
    "collapsed": true
   },
   "outputs": [],
   "source": [
    "# make a random graph\n",
    "# This is G(n,p), where we have n vertices and each (directed) edge is present with probability p.\n",
    "# if you pass in a set of weights, then the weights are chosen uniformly from that set.\n",
    "# otherwise all weights are 1\n",
    "def randomGraph(n,p,wts=[1]):\n",
    "    G = CS161Graph()\n",
    "    V = [ CS161Vertex(x) for x in range(n) ]\n",
    "    for v in V:\n",
    "        G.addVertex(v)\n",
    "    for v in V:\n",
    "        for w in V:\n",
    "            if v != w:\n",
    "                if random() < p:\n",
    "                    G.addDiEdge(v,w,wt=choice(wts))\n",
    "    return G"
   ]
  },
  {
   "cell_type": "markdown",
   "metadata": {},
   "source": [
    "## BFS for shortest paths\n",
    "\n",
    "(This is the code we had last time; I've modified it slightly to recover the actual paths)"
   ]
  },
  {
   "cell_type": "code",
   "execution_count": 3,
   "metadata": {
    "collapsed": true
   },
   "outputs": [],
   "source": [
    "def BFS(w, G):\n",
    "    for v in G.vertices:\n",
    "        v.status = \"unvisited\"\n",
    "    n = len(G.vertices)\n",
    "    Ls = [ [] for i in range(n) ]\n",
    "    Ls[0] = [w]\n",
    "    w.status = \"visited\"\n",
    "    for i in range(n):\n",
    "        for u in Ls[i]:\n",
    "            for v in u.getOutNeighbors():\n",
    "                if v.status == \"unvisited\":\n",
    "                    v.status = \"visited\"\n",
    "                    v.parent = u # this is new from Lecture 9: it's a bit of extra bookkeeping to find the shortest paths later\n",
    "                    Ls[i+1].append(v)\n",
    "    return Ls"
   ]
  },
  {
   "cell_type": "code",
   "execution_count": 4,
   "metadata": {
    "collapsed": true
   },
   "outputs": [],
   "source": [
    "# Here's how we'd actually print out shortest paths.\n",
    "def BFS_shortestPaths(w,G):\n",
    "    Ls = BFS(w,G)\n",
    "    # okay, now what are all the shortest paths?\n",
    "    for i in range(len(Ls)):\n",
    "        print(\"distance\", i)\n",
    "        for w in Ls[i]:\n",
    "            path = []\n",
    "            current = w\n",
    "            for j in range(i):\n",
    "                path.append(current)\n",
    "                current = current.parent\n",
    "            path.append(current)\n",
    "            path.reverse()\n",
    "            print([ str(v) for v in path ])\n",
    "        "
   ]
  },
  {
   "cell_type": "code",
   "execution_count": 5,
   "metadata": {},
   "outputs": [
    {
     "name": "stdout",
     "output_type": "stream",
     "text": [
      "CS161Graph with:\n",
      "\t Vertices:\n",
      "\t0,1,2,3,4,\n",
      "\t Edges:\n",
      "\t(0,2; wt:1) (3,0; wt:1) (3,1; wt:1) (3,4; wt:1) \n",
      "\n",
      "distance 0\n",
      "['0']\n",
      "distance 1\n",
      "['0', '2']\n",
      "distance 2\n",
      "distance 3\n",
      "distance 4\n"
     ]
    }
   ],
   "source": [
    "# test on a random graph\n",
    "G = randomGraph(5,.2)\n",
    "print(G)\n",
    "BFS_shortestPaths(G.vertices[0],G)"
   ]
  },
  {
   "cell_type": "markdown",
   "metadata": {},
   "source": [
    "## Dijkstra's algorithm for shortest paths\n",
    "\n",
    "BFS only works on unweighted graphs.  Dijkstra's algorithm will work on weighted graphs."
   ]
  },
  {
   "cell_type": "code",
   "execution_count": 6,
   "metadata": {
    "collapsed": true
   },
   "outputs": [],
   "source": [
    "# first let's implement this with an array.\n",
    "def dijkstraDumb(w,G):\n",
    "    for v in G.vertices:\n",
    "        v.estD = math.inf\n",
    "    w.estD = 0\n",
    "    unsureVertices = G.vertices[:]\n",
    "    while len(unsureVertices) > 0:\n",
    "        # find the u with the minimum estD in the dumbest way possible\n",
    "        u = None\n",
    "        minD = math.inf\n",
    "        for x in unsureVertices:\n",
    "            if x.estD < minD:\n",
    "                minD = x.estD\n",
    "                u = x\n",
    "        if u == None:\n",
    "            # then there is nothing more that I can reach\n",
    "            return\n",
    "        # update u's neighbors\n",
    "        for v,wt in u.getOutNeighborsWithWeights():\n",
    "            if u.estD + wt < v.estD:\n",
    "                v.estD = u.estD + wt\n",
    "                v.parent = u\n",
    "        unsureVertices.remove(u)\n",
    "    # that's it!  Now each vertex holds estD which is its distance from w"
   ]
  },
  {
   "cell_type": "code",
   "execution_count": 7,
   "metadata": {
    "collapsed": true
   },
   "outputs": [],
   "source": [
    "def dijkstraDumb_shortestPaths(w,G):\n",
    "    dijkstraDumb(w,G)\n",
    "    # okay, now what are all the shortest paths?\n",
    "    for v in G.vertices:\n",
    "        if v.estD == math.inf:\n",
    "            print(\"Cannot reach \" + str(v))\n",
    "            continue\n",
    "        path = []\n",
    "        current = v\n",
    "        while current != w:\n",
    "            path.append(current)\n",
    "            current = current.parent\n",
    "        path.append(current)\n",
    "        path.reverse()\n",
    "        print([ str(x) for x in path ])"
   ]
  },
  {
   "cell_type": "code",
   "execution_count": 11,
   "metadata": {},
   "outputs": [
    {
     "name": "stdout",
     "output_type": "stream",
     "text": [
      "CS161Graph with:\n",
      "\t Vertices:\n",
      "\t0,1,2,3,4,\n",
      "\t Edges:\n",
      "\t(1,3; wt:1) (2,1; wt:1) (3,0; wt:1) (3,1; wt:1) (4,3; wt:1) \n",
      "\n",
      "['0']\n",
      "Cannot reach 1\n",
      "Cannot reach 2\n",
      "Cannot reach 3\n",
      "Cannot reach 4\n"
     ]
    }
   ],
   "source": [
    "# test on a random graph\n",
    "G = randomGraph(5,.2)\n",
    "print(G)\n",
    "dijkstraDumb_shortestPaths(G.vertices[0], G)"
   ]
  },
  {
   "cell_type": "code",
   "execution_count": 13,
   "metadata": {
    "collapsed": true
   },
   "outputs": [],
   "source": [
    "# now let's try this with a heap\n",
    "def dijkstra(w,G):\n",
    "    for v in G.vertices:\n",
    "        v.estD = math.inf\n",
    "    w.estD = 0\n",
    "    unsureVertices = heapdict.heapdict()\n",
    "    for v in G.vertices:\n",
    "        unsureVertices[v] = v.estD\n",
    "    while len(unsureVertices) > 0:\n",
    "        # find the u with the minimum estD, using the heap\n",
    "        u, dist = unsureVertices.popitem() \n",
    "        if u.estD == math.inf:\n",
    "            # then there is nothing more that I can reach\n",
    "            return\n",
    "        # update u's neighbors\n",
    "        for v,wt in u.getOutNeighborsWithWeights():\n",
    "            if u.estD + wt < v.estD:\n",
    "                v.estD = u.estD + wt\n",
    "                unsureVertices[v] = u.estD + wt #update the key in the heapdict\n",
    "                v.parent = u\n",
    "    # that's it!  Now each vertex holds estD which is its distance from w"
   ]
  },
  {
   "cell_type": "code",
   "execution_count": 14,
   "metadata": {
    "collapsed": true
   },
   "outputs": [],
   "source": [
    "def dijkstra_shortestPaths(w,G):\n",
    "    dijkstra(w,G)\n",
    "    # okay, now what are all the shortest paths?\n",
    "    for v in G.vertices:\n",
    "        if v.estD == math.inf:\n",
    "            print(\"Cannot reach \" + str(v))\n",
    "            continue\n",
    "        path = []\n",
    "        current = v\n",
    "        while current != w:\n",
    "            path.append(current)\n",
    "            current = current.parent\n",
    "        path.append(current)\n",
    "        path.reverse()\n",
    "        print([ str(x) for x in path ])"
   ]
  },
  {
   "cell_type": "code",
   "execution_count": 15,
   "metadata": {},
   "outputs": [
    {
     "name": "stdout",
     "output_type": "stream",
     "text": [
      "CS161Graph with:\n",
      "\t Vertices:\n",
      "\t0,1,2,3,4,\n",
      "\t Edges:\n",
      "\t(0,1; wt:3) (2,3; wt:4) (2,4; wt:1) (4,1; wt:1) \n",
      "\n",
      "['0']\n",
      "['0', '1']\n",
      "Cannot reach 2\n",
      "Cannot reach 3\n",
      "Cannot reach 4\n"
     ]
    }
   ],
   "source": [
    "# test on a random graph\n",
    "G = randomGraph(5,.4,[1,2,3,4,5])\n",
    "print(G)\n",
    "dijkstra_shortestPaths(G.vertices[0], G)"
   ]
  },
  {
   "cell_type": "markdown",
   "metadata": {},
   "source": [
    "## BFS vs Dijkstra"
   ]
  },
  {
   "cell_type": "code",
   "execution_count": 16,
   "metadata": {
    "collapsed": true
   },
   "outputs": [],
   "source": [
    "# generate a bunch of random graphs and run an alg to compute shortest paths (implicitly)  \n",
    "def runTrials(myFn, nVals, pFn, numTrials=25):\n",
    "    nValues = []\n",
    "    tValues = []\n",
    "    for n in nVals:\n",
    "        # run myFn several times and average to get a decent idea.\n",
    "        runtime = 0\n",
    "        for t in range(numTrials):\n",
    "            G = randomGraph(n, pFn(n))  #Random graph on n vertices with about pn^2 edges\n",
    "            start = time.time()\n",
    "            myFn( G.vertices[0], G ) \n",
    "            end = time.time()\n",
    "            runtime += (end - start) * 1000 # measure in milliseconds\n",
    "        runtime = runtime/numTrials\n",
    "        nValues.append(n)\n",
    "        tValues.append(runtime)\n",
    "    return nValues, tValues"
   ]
  },
  {
   "cell_type": "code",
   "execution_count": 17,
   "metadata": {
    "collapsed": true
   },
   "outputs": [],
   "source": [
    "def smallFrac(n):\n",
    "    return float(5/n)\n",
    "nValues = [10,50,100,150,200,300,400,500,700,1000,1200,1400,1600]\n",
    "nBFS, tBFS = runTrials(BFS, nValues,smallFrac)\n",
    "nDijkstraDumb, tDijkstraDumb = runTrials(dijkstraDumb, nValues,smallFrac)\n",
    "nDijkstra, tDijkstra = runTrials(dijkstra, nValues,smallFrac)"
   ]
  },
  {
   "cell_type": "code",
   "execution_count": 18,
   "metadata": {},
   "outputs": [
    {
     "data": {
      "image/png": "[encoded data removed]",
      "text/plain": [
       "<matplotlib.figure.Figure at 0x11213ca20>"
      ]
     },
     "metadata": {},
     "output_type": "display_data"
    }
   ],
   "source": [
    "plt.plot(nBFS, tBFS, color=\"red\", label=\"BFS\")\n",
    "plt.plot(nDijkstraDumb, tDijkstraDumb, \"-.\", color=\"blue\", label=\"Dijkstra with an array\")\n",
    "plt.plot(nDijkstra, tDijkstra, \"--\", color=\"orange\", label=\"Dijkstra with a heap\")\n",
    "plt.xlabel(\"n\")\n",
    "plt.ylabel(\"Time(ms)\")\n",
    "plt.legend()\n",
    "plt.title(\"Shortest paths on a graph with n vertices and about 5n edges\")\n",
    "plt.show()"
   ]
  },
  {
   "cell_type": "code",
   "execution_count": null,
   "metadata": {
    "collapsed": true
   },
   "outputs": [],
   "source": []
  }
 ],
 "metadata": {
  "kernelspec": {
   "display_name": "Python [conda env:cs161]",
   "language": "python",
   "name": "conda-env-cs161-py"
  },
  "language_info": {
   "codemirror_mode": {
    "name": "ipython",
    "version": 3
   },
   "file_extension": ".py",
   "mimetype": "text/x-python",
   "name": "python",
   "nbconvert_exporter": "python",
   "pygments_lexer": "ipython3",
   "version": "3.5.4"
  }
 },
 "nbformat": 4,
 "nbformat_minor": 2
}
